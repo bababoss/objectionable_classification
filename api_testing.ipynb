{
 "cells": [
  {
   "cell_type": "code",
   "execution_count": 1,
   "metadata": {},
   "outputs": [],
   "source": [
    "#  API Testing"
   ]
  },
  {
   "cell_type": "code",
   "execution_count": 20,
   "metadata": {},
   "outputs": [],
   "source": [
    "import requests,json\n",
    "import pprint as pp\n",
    "headers = {'Content-type': 'application/json'}\n",
    "host=\"http://0.0.0.0:5000/api\"\n"
   ]
  },
  {
   "cell_type": "code",
   "execution_count": 21,
   "metadata": {},
   "outputs": [
    {
     "name": "stdout",
     "output_type": "stream",
     "text": [
      "u'\"{\\'severe_toxic\\': 0.0007035891, \\'identity_hate\\': 0.0077343453, \\'obscene\\': 0.01651307, \\'insult\\': 0.035888087, \\'threat\\': 0.004670156, \\'toxic\\': 0.20529777}\"\\n'\n"
     ]
    }
   ],
   "source": [
    "payload={\"text\": \"I am great a man \"}\n",
    "r=requests.post(host,data=json.dumps(payload),headers=headers)\n",
    "pp.pprint(r.text)"
   ]
  },
  {
   "cell_type": "code",
   "execution_count": null,
   "metadata": {},
   "outputs": [],
   "source": []
  }
 ],
 "metadata": {
  "kernelspec": {
   "display_name": "py2Env",
   "language": "python",
   "name": "py2env"
  },
  "language_info": {
   "codemirror_mode": {
    "name": "ipython",
    "version": 2
   },
   "file_extension": ".py",
   "mimetype": "text/x-python",
   "name": "python",
   "nbconvert_exporter": "python",
   "pygments_lexer": "ipython2",
   "version": "2.7.12"
  }
 },
 "nbformat": 4,
 "nbformat_minor": 2
}
