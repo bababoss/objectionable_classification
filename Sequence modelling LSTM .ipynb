{
 "cells": [
  {
   "cell_type": "markdown",
   "metadata": {},
   "source": [
    "# LSTM"
   ]
  },
  {
   "cell_type": "markdown",
   "metadata": {},
   "source": [
    "# Importing lib"
   ]
  },
  {
   "cell_type": "code",
   "execution_count": 1,
   "metadata": {},
   "outputs": [
    {
     "name": "stderr",
     "output_type": "stream",
     "text": [
      "Using TensorFlow backend.\n"
     ]
    }
   ],
   "source": [
    "from keras.models import Sequential\n",
    "from keras.layers import LSTM, Dense\n",
    "import numpy as np"
   ]
  },
  {
   "cell_type": "markdown",
   "metadata": {},
   "source": [
    "# SET parameters"
   ]
  },
  {
   "cell_type": "code",
   "execution_count": 27,
   "metadata": {},
   "outputs": [],
   "source": [
    "data_dim = 16\n",
    "timesteps = 8\n",
    "num_classes = 10"
   ]
  },
  {
   "cell_type": "markdown",
   "metadata": {},
   "source": [
    "# CREATE NETWORK"
   ]
  },
  {
   "cell_type": "code",
   "execution_count": 28,
   "metadata": {},
   "outputs": [],
   "source": [
    "# expected input data shape: (batch_size, timesteps, data_dim)\n",
    "model = Sequential()\n",
    "model.add(LSTM(32, return_sequences=True,\n",
    "               input_shape=(timesteps, data_dim)))  # returns a sequence of vectors of dimension 32\n",
    "model.add(LSTM(32, return_sequences=True))  # returns a sequence of vectors of dimension 32\n",
    "model.add(LSTM(32))  # return a single vector of dimension 32\n",
    "model.add(Dense(10, activation='softmax'))\n"
   ]
  },
  {
   "cell_type": "markdown",
   "metadata": {},
   "source": [
    "# SET TRAINNING"
   ]
  },
  {
   "cell_type": "code",
   "execution_count": 29,
   "metadata": {},
   "outputs": [],
   "source": [
    "\n",
    "model.compile(loss='categorical_crossentropy',\n",
    "              optimizer='rmsprop',\n",
    "              metrics=['accuracy'])\n"
   ]
  },
  {
   "cell_type": "markdown",
   "metadata": {},
   "source": [
    "# PREAORE DATASET"
   ]
  },
  {
   "cell_type": "code",
   "execution_count": 30,
   "metadata": {},
   "outputs": [
    {
     "data": {
      "text/plain": [
       "array([[[0.92143167, 0.37505969, 0.00956095, ..., 0.13695831,\n",
       "         0.36952518, 0.80710532],\n",
       "        [0.29813167, 0.05757929, 0.53321673, ..., 0.37503133,\n",
       "         0.2939104 , 0.45270435],\n",
       "        [0.30110842, 0.51544821, 0.77261284, ..., 0.03265189,\n",
       "         0.69061762, 0.74362463],\n",
       "        ...,\n",
       "        [0.62372774, 0.23932691, 0.84813295, ..., 0.88792094,\n",
       "         0.70594671, 0.68196135],\n",
       "        [0.3786643 , 0.9821973 , 0.47879901, ..., 0.9636951 ,\n",
       "         0.07290446, 0.62405963],\n",
       "        [0.56430372, 0.4266838 , 0.25661601, ..., 0.94905497,\n",
       "         0.38648133, 0.61928805]],\n",
       "\n",
       "       [[0.88452273, 0.20444924, 0.55878159, ..., 0.09814555,\n",
       "         0.05582173, 0.69469173],\n",
       "        [0.38000998, 0.97469729, 0.98934311, ..., 0.98553726,\n",
       "         0.8159585 , 0.56666674],\n",
       "        [0.64790938, 0.38468043, 0.9181236 , ..., 0.13377537,\n",
       "         0.37468151, 0.34743095],\n",
       "        ...,\n",
       "        [0.98177516, 0.26496233, 0.68144837, ..., 0.07649915,\n",
       "         0.33662571, 0.4047062 ],\n",
       "        [0.34776468, 0.74352246, 0.95577824, ..., 0.7761317 ,\n",
       "         0.85148574, 0.22590215],\n",
       "        [0.13230525, 0.24269563, 0.27152127, ..., 0.2476768 ,\n",
       "         0.14334644, 0.14999516]],\n",
       "\n",
       "       [[0.40261104, 0.72813197, 0.18338483, ..., 0.24829027,\n",
       "         0.82160892, 0.74244077],\n",
       "        [0.08818714, 0.54292603, 0.75912816, ..., 0.39850595,\n",
       "         0.60592051, 0.69603645],\n",
       "        [0.29199774, 0.77918858, 0.50676231, ..., 0.03659191,\n",
       "         0.28242894, 0.69152737],\n",
       "        ...,\n",
       "        [0.76222626, 0.33837611, 0.54783948, ..., 0.6404773 ,\n",
       "         0.65935598, 0.72318127],\n",
       "        [0.95361531, 0.05156919, 0.7857536 , ..., 0.02370483,\n",
       "         0.20481766, 0.28207981],\n",
       "        [0.67828673, 0.18998429, 0.14031052, ..., 0.06514055,\n",
       "         0.87216994, 0.43437107]],\n",
       "\n",
       "       ...,\n",
       "\n",
       "       [[0.46191878, 0.41530093, 0.12018969, ..., 0.82280146,\n",
       "         0.78811354, 0.09060384],\n",
       "        [0.97652554, 0.99256047, 0.77412225, ..., 0.68694018,\n",
       "         0.6384094 , 0.82781608],\n",
       "        [0.12732615, 0.32818794, 0.25002177, ..., 0.50024652,\n",
       "         0.56394666, 0.06660501],\n",
       "        ...,\n",
       "        [0.84144969, 0.40494392, 0.56556683, ..., 0.36796902,\n",
       "         0.22333846, 0.90565022],\n",
       "        [0.77014245, 0.53595854, 0.35782399, ..., 0.09837086,\n",
       "         0.61938062, 0.14896161],\n",
       "        [0.2107519 , 0.59260072, 0.70941244, ..., 0.24946762,\n",
       "         0.1831864 , 0.3089362 ]],\n",
       "\n",
       "       [[0.02868649, 0.38769419, 0.69597011, ..., 0.87526483,\n",
       "         0.45937501, 0.22397174],\n",
       "        [0.18869024, 0.96045158, 0.49938904, ..., 0.79862978,\n",
       "         0.07817362, 0.80370866],\n",
       "        [0.8224446 , 0.62397164, 0.90179644, ..., 0.23485061,\n",
       "         0.0327564 , 0.41747118],\n",
       "        ...,\n",
       "        [0.97533119, 0.68441162, 0.79230991, ..., 0.18164784,\n",
       "         0.55571655, 0.96489706],\n",
       "        [0.33255578, 0.76836736, 0.70346781, ..., 0.13833446,\n",
       "         0.88164637, 0.19424237],\n",
       "        [0.04604888, 0.61392849, 0.8394384 , ..., 0.12730564,\n",
       "         0.07940718, 0.97623917]],\n",
       "\n",
       "       [[0.90574032, 0.81199101, 0.34663952, ..., 0.43992614,\n",
       "         0.18234552, 0.54869567],\n",
       "        [0.21610324, 0.86831352, 0.36368871, ..., 0.32260007,\n",
       "         0.28963472, 0.68754934],\n",
       "        [0.70366706, 0.27897258, 0.42816451, ..., 0.72926546,\n",
       "         0.62681862, 0.4475668 ],\n",
       "        ...,\n",
       "        [0.60072958, 0.18723104, 0.14950964, ..., 0.52902833,\n",
       "         0.3635114 , 0.11286726],\n",
       "        [0.46813247, 0.45361395, 0.62313614, ..., 0.56025466,\n",
       "         0.50166027, 0.5571352 ],\n",
       "        [0.06315336, 0.32214713, 0.74848811, ..., 0.61840431,\n",
       "         0.74410099, 0.64152966]]])"
      ]
     },
     "execution_count": 30,
     "metadata": {},
     "output_type": "execute_result"
    }
   ],
   "source": [
    "\n",
    "# Generate dummy training data\n",
    "x_train = np.random.random((1000, timesteps, data_dim))\n",
    "y_train = np.random.random((1000, num_classes))\n",
    "\n",
    "# Generate dummy validation data\n",
    "x_val = np.random.random((100, timesteps, data_dim))\n",
    "y_val = np.random.random((100, num_classes))\n",
    "\n",
    "x_train"
   ]
  },
  {
   "cell_type": "markdown",
   "metadata": {},
   "source": [
    "# STRART TRAINING"
   ]
  },
  {
   "cell_type": "code",
   "execution_count": 31,
   "metadata": {},
   "outputs": [
    {
     "name": "stdout",
     "output_type": "stream",
     "text": [
      "Train on 1000 samples, validate on 100 samples\n",
      "Epoch 1/5\n",
      "1000/1000 [==============================] - 3s 3ms/step - loss: 11.4229 - acc: 0.0950 - val_loss: 11.4961 - val_acc: 0.1700\n",
      "Epoch 2/5\n",
      "1000/1000 [==============================] - 0s 298us/step - loss: 11.4216 - acc: 0.1190 - val_loss: 11.4976 - val_acc: 0.1100\n",
      "Epoch 3/5\n",
      "1000/1000 [==============================] - 0s 286us/step - loss: 11.4214 - acc: 0.1160 - val_loss: 11.4957 - val_acc: 0.1000\n",
      "Epoch 4/5\n",
      "1000/1000 [==============================] - 0s 274us/step - loss: 11.4209 - acc: 0.1100 - val_loss: 11.4985 - val_acc: 0.0800\n",
      "Epoch 5/5\n",
      "1000/1000 [==============================] - 0s 306us/step - loss: 11.4204 - acc: 0.0970 - val_loss: 11.4954 - val_acc: 0.1500\n"
     ]
    },
    {
     "data": {
      "text/plain": [
       "<keras.callbacks.History at 0x7f1e49a66c50>"
      ]
     },
     "execution_count": 31,
     "metadata": {},
     "output_type": "execute_result"
    }
   ],
   "source": [
    "model.fit(x_train, y_train,\n",
    "          batch_size=64, epochs=5,\n",
    "          validation_data=(x_val, y_val))"
   ]
  },
  {
   "cell_type": "code",
   "execution_count": null,
   "metadata": {},
   "outputs": [],
   "source": []
  }
 ],
 "metadata": {
  "kernelspec": {
   "display_name": "py2Env",
   "language": "python",
   "name": "py2env"
  },
  "language_info": {
   "codemirror_mode": {
    "name": "ipython",
    "version": 2
   },
   "file_extension": ".py",
   "mimetype": "text/x-python",
   "name": "python",
   "nbconvert_exporter": "python",
   "pygments_lexer": "ipython2",
   "version": "2.7.12"
  }
 },
 "nbformat": 4,
 "nbformat_minor": 2
}
